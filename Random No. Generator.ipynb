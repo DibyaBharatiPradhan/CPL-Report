{
 "cells": [
  {
   "cell_type": "markdown",
   "id": "d88a21ae",
   "metadata": {},
   "source": [
    "### Random no. generator using LCG algorithm "
   ]
  },
  {
   "cell_type": "markdown",
   "id": "0a934013",
   "metadata": {},
   "source": [
    "##### a.   Implement the linear congruential generator for different values of $z_0$(seed) with the choice <br>   a1>     $m=7,a=5,c=9$ (poor combination)  <br> a2>    $m=2^{31}-1$ , $a = 7^5$ , $c=12345$  (a good combination).<br> b. Generate $n=100,10000,100000$ random numbers and draw a histogram. <br> c.Simulate the roll of a symmetric die and draw a histogram for several values of n. <br>d.Repeat the same with the generators $random.random$ and $numpy.random.uniform$. Compare the time efficiency of these generators by using $time.time$. "
   ]
  },
  {
   "cell_type": "markdown",
   "id": "e4c15ddd",
   "metadata": {},
   "source": [
    "### Part a"
   ]
  },
  {
   "cell_type": "code",
   "execution_count": 92,
   "id": "ed384eb8",
   "metadata": {},
   "outputs": [],
   "source": [
    "#initializing\n",
    "seed = 4\n",
    "\n",
    "def RNG(m,a,c):\n",
    "    global seed                                                           # 'global' keyword changes the seed value everytime  \n",
    "    seed = (a*seed+ c)% m                                                 # updating the seed each time the function is called\n",
    "    return seed/m                                                         # return the generated random number \n"
   ]
  },
  {
   "cell_type": "code",
   "execution_count": 93,
   "id": "f2d5d5ee",
   "metadata": {},
   "outputs": [
    {
     "name": "stdout",
     "output_type": "stream",
     "text": [
      "seed =  4 random number = 0.14285714285714285\n",
      "seed =  1 random number = 0.0\n",
      "seed =  0 random number = 0.2857142857142857\n",
      "seed =  2 random number = 0.7142857142857143\n",
      "seed =  5 random number = 0.8571428571428571\n",
      "seed =  6 random number = 0.5714285714285714\n",
      "seed =  4 random number = 0.14285714285714285\n",
      "seed =  1 random number = 0.0\n",
      "seed =  0 random number = 0.2857142857142857\n",
      "seed =  2 random number = 0.7142857142857143\n"
     ]
    }
   ],
   "source": [
    "for i in range (10):                                                  # taking N=10 (no. of random no.s to be generated)\n",
    "    print (\"seed = \",seed, \"random number =\", \n",
    "           RNG(m=7,c=9,a=5))                                         # printing 10 random numbers for the 1st choice of values "
   ]
  },
  {
   "cell_type": "code",
   "execution_count": 94,
   "id": "ee59d893",
   "metadata": {},
   "outputs": [
    {
     "data": {
      "text/plain": [
       "'\\nWe can see above that the seed values as well as the random numbers repeat themselves after m iterations(7 iterations here).\\nHence it is a poor choice of combinations  \\n'"
      ]
     },
     "execution_count": 94,
     "metadata": {},
     "output_type": "execute_result"
    }
   ],
   "source": [
    "'''\n",
    "We can see above that the seed values as well as the random numbers repeat themselves after m iterations(7 iterations here).\n",
    "Hence it is a poor choice of combinations  \n",
    "'''"
   ]
  },
  {
   "cell_type": "code",
   "execution_count": 95,
   "id": "cc69f427",
   "metadata": {},
   "outputs": [
    {
     "name": "stdout",
     "output_type": "stream",
     "text": [
      "seed= 5 random number =  4.488043489161899e-05\n",
      "seed= 96380 random number =  0.7543112178120349\n",
      "seed= 1619871005 random number =  0.7086435154586301\n",
      "seed= 1521800361 random number =  0.17157006178590006\n",
      "seed= 368443902 random number =  0.5780341842109497\n",
      "seed= 1241318958 random number =  0.020539782019583407\n",
      "seed= 44108846 random number =  0.2121221517269137\n",
      "seed= 455528852 random number =  0.13700982282730276\n",
      "seed= 294226354 random number =  0.724098007066221\n",
      "seed= 1554988629 random number =  0.9152105105646003\n"
     ]
    }
   ],
   "source": [
    "for _ in range(10):                                                    # taking N=10 (no. of random no.s to be generated)\n",
    "    print (\"seed=\",seed,\"random number = \", \n",
    "           RNG(m=2**31-1, a=7**5,c=12345))                        # printing 10 random numbers for the 2nd choice of values"
   ]
  },
  {
   "cell_type": "code",
   "execution_count": 96,
   "id": "d3cc6148",
   "metadata": {},
   "outputs": [
    {
     "data": {
      "text/plain": [
       "'\\nHere since the value of m is very large, the outputs would repeat themselves after a really large interval. \\nSo, this combination of a,m and c is really good to obtain random numbers.   \\n'"
      ]
     },
     "execution_count": 96,
     "metadata": {},
     "output_type": "execute_result"
    }
   ],
   "source": [
    "'''\n",
    "Here since the value of m is very large, the outputs would repeat themselves after a really large interval. \n",
    "So, this combination of a,m and c is really good to obtain random numbers.   \n",
    "'''"
   ]
  },
  {
   "cell_type": "markdown",
   "id": "c10311d9",
   "metadata": {},
   "source": [
    "### Part b"
   ]
  },
  {
   "cell_type": "code",
   "execution_count": 97,
   "id": "b6d01ca6",
   "metadata": {},
   "outputs": [
    {
     "name": "stdout",
     "output_type": "stream",
     "text": [
      "The plot below is for  100 Random no.s generated\n"
     ]
    },
    {
     "data": {
      "image/png": "[encoded data removed]",
      "text/plain": [
       "<Figure size 432x288 with 1 Axes>"
      ]
     },
     "metadata": {
      "needs_background": "light"
     },
     "output_type": "display_data"
    },
    {
     "name": "stdout",
     "output_type": "stream",
     "text": [
      "The plot below is for  1000 Random no.s generated\n"
     ]
    },
    {
     "data": {
      "image/png": "[encoded data removed]",
      "text/plain": [
       "<Figure size 432x288 with 1 Axes>"
      ]
     },
     "metadata": {
      "needs_background": "light"
     },
     "output_type": "display_data"
    },
    {
     "name": "stdout",
     "output_type": "stream",
     "text": [
      "The plot below is for  100000 Random no.s generated\n"
     ]
    },
    {
     "data": {
      "image/png": "[encoded data removed]",
      "text/plain": [
       "<Figure size 432x288 with 1 Axes>"
      ]
     },
     "metadata": {
      "needs_background": "light"
     },
     "output_type": "display_data"
    },
    {
     "name": "stdout",
     "output_type": "stream",
     "text": [
      "The plot below is for  1000000 Random no.s generated\n"
     ]
    },
    {
     "data": {
      "image/png": "[encoded data removed]",
      "text/plain": [
       "<Figure size 432x288 with 1 Axes>"
      ]
     },
     "metadata": {
      "needs_background": "light"
     },
     "output_type": "display_data"
    }
   ],
   "source": [
    "import numpy as np\n",
    "import matplotlib.pyplot as plt\n",
    "%matplotlib inline\n",
    "def rng(m=2**31-1, a=7**5,c=12345):                                       # redefining the function\n",
    "    global seed \n",
    "    seed = (a*seed + c) %m\n",
    "    return seed/m\n",
    "\n",
    "N=100\n",
    "X = np.zeros(N)                                                           # storing the array in X\n",
    "seed=15746889                                                             # initialising seed\n",
    "for i in range(N):\n",
    "    X[i]=rng()\n",
    "print(\"The plot below is for \",N,\"Random no.s generated\") \n",
    "plt.hist(X,bins=100,color='c',edgecolor='black')\n",
    "plt.title('Frequency vs magnitude of RN')\n",
    "plt.xlabel('Random No. values')\n",
    "plt.ylabel('Frequency')\n",
    "plt.show()\n",
    "\n",
    "N1=1000                                                                  # storing the array in X\n",
    "X = np.zeros(N1)\n",
    "seed=15746889                                                             # initialising seed\n",
    "for i in range(N1):\n",
    "    X[i]=rng()\n",
    "print(\"The plot below is for \",N1,\"Random no.s generated\") \n",
    "plt.hist(X,bins=100,color='c',edgecolor='black')\n",
    "plt.title('Frequency vs magnitude of RN')\n",
    "plt.xlabel('Random No. values')\n",
    "plt.ylabel('Frequency')\n",
    "plt.show()\n",
    "\n",
    "\n",
    "N2=100000\n",
    "X = np.zeros(N2)\n",
    "seed=15746889\n",
    "for i in range(N2):\n",
    "    X[i]=rng()\n",
    "print(\"The plot below is for \",N2,\"Random no.s generated\") \n",
    "plt.hist(X,bins=100,color='c',edgecolor='black')\n",
    "plt.title('Frequency vs magnitude of RN')\n",
    "plt.xlabel('Random No. values')\n",
    "plt.ylabel('Frequency')\n",
    "plt.show()\n",
    "\n",
    "N3=10**6\n",
    "X = np.zeros(N3)\n",
    "seed=4\n",
    "for i in range(N3):\n",
    "    X[i]=rng()\n",
    "print(\"The plot below is for \",N3,\"Random no.s generated\") \n",
    "plt.hist(X,bins=1000,color='c')\n",
    "plt.title('Frequency vs magnitude of RN')\n",
    "plt.xlabel('Random No. values')\n",
    "plt.ylabel('Frequency')\n",
    "plt.show()\n",
    "\n",
    "#RN refers to Random Numbers"
   ]
  },
  {
   "cell_type": "code",
   "execution_count": 98,
   "id": "45fa0108",
   "metadata": {},
   "outputs": [
    {
     "data": {
      "text/plain": [
       "'\\nTaking 10/100 sub-intervals between [0,1], we notice that the frequency of occurence random numbers are very comparable \\nin the ranges. \\nThis gives rise to uniformity. As we generate more Random numbers, the uniformity gets more defined.  \\n'"
      ]
     },
     "execution_count": 98,
     "metadata": {},
     "output_type": "execute_result"
    }
   ],
   "source": [
    "'''\n",
    "Taking 10/100 sub-intervals between [0,1], we notice that the frequency of occurence random numbers are very comparable \n",
    "in the ranges. \n",
    "This gives rise to uniformity. As we generate more Random numbers, the uniformity gets more defined.  \n",
    "'''"
   ]
  },
  {
   "cell_type": "markdown",
   "id": "a4e7754a",
   "metadata": {},
   "source": [
    "### Part c : Simulation of rolls of a die\n",
    "#### If U~ uni f(0,1), then int(6U+1) takes uniformly the values {1,2,3,4,5,6}.\n",
    "\n"
   ]
  },
  {
   "cell_type": "code",
   "execution_count": 99,
   "id": "d02c189c",
   "metadata": {},
   "outputs": [
    {
     "name": "stdout",
     "output_type": "stream",
     "text": [
      "The plot below is for  1000000 Random no.s generated\n"
     ]
    },
    {
     "data": {
      "image/png": "[encoded data removed]",
      "text/plain": [
       "<Figure size 432x288 with 1 Axes>"
      ]
     },
     "metadata": {
      "needs_background": "light"
     },
     "output_type": "display_data"
    }
   ],
   "source": [
    "N= 100000\n",
    "A=np.zeros(N)                                                                 # array defined\n",
    "for i in range(N):\n",
    "    A[i]=int(6*rng()+1)                                                       # mathematical expession for the die\n",
    "    \n",
    "plt.hist(A, bins=np.arange(1,8),color='orange',\n",
    "        edgecolor='black',rwidth=0.5,align='left')                            # labelling and plotting the graph\n",
    "plt.axhline(y=N/6,color='b')\n",
    "\n",
    "print(\"The plot below is for \",N3,\"Random no.s generated\") \n",
    "plt.hist(X,bins=1000,color='c')\n",
    "plt.title('Frequency vs magnitude of RN')\n",
    "plt.xlabel('Random No. values')\n",
    "plt.ylabel('Frequency')\n",
    "plt.show()\n"
   ]
  },
  {
   "cell_type": "code",
   "execution_count": 100,
   "id": "27386592",
   "metadata": {},
   "outputs": [
    {
     "data": {
      "text/plain": [
       "(16666.666666666668, 16922, 16612, 16554, 16537, 16555, 16820)"
      ]
     },
     "execution_count": 100,
     "metadata": {},
     "output_type": "execute_result"
    }
   ],
   "source": [
    "N/6, sum(A==1), sum(A==2), sum(A==3), sum(A==4), sum(A==5), sum(A==6)\n",
    "\n",
    "# all these values are very close to N/6.\n",
    "# This proves that the paramers considered for LCG function here are good. "
   ]
  },
  {
   "cell_type": "code",
   "execution_count": 101,
   "id": "d9365b15",
   "metadata": {},
   "outputs": [
    {
     "data": {
      "text/plain": [
       "'\\nWhen the die is rolled 100,000 times,\\nThe proportions of the results for each face are very close (nearly N/6) (as depicted in the graph).This know the fact that \\nthe probabiity of getting any of the side of the die is same i.e. 1/6. \\n'"
      ]
     },
     "execution_count": 101,
     "metadata": {},
     "output_type": "execute_result"
    }
   ],
   "source": [
    "'''\n",
    "When the die is rolled 100,000 times,\n",
    "The proportions of the results for each face are very close (nearly N/6) (as depicted in the graph).This know the fact that \n",
    "the probabiity of getting any of the side of the die is same i.e. 1/6. \n",
    "'''"
   ]
  },
  {
   "cell_type": "markdown",
   "id": "66cadd42",
   "metadata": {},
   "source": [
    "### Part d: Comparing the efficiency of several ways of generating a vector of random numbers "
   ]
  },
  {
   "cell_type": "code",
   "execution_count": 102,
   "id": "050d45a3",
   "metadata": {},
   "outputs": [
    {
     "data": {
      "text/plain": [
       "0.1456692551041303"
      ]
     },
     "execution_count": 102,
     "metadata": {},
     "output_type": "execute_result"
    }
   ],
   "source": [
    "import random\n",
    "random.seed(100)\n",
    "random.random()"
   ]
  },
  {
   "cell_type": "code",
   "execution_count": 103,
   "id": "34992c7a",
   "metadata": {},
   "outputs": [
    {
     "name": "stdout",
     "output_type": "stream",
     "text": [
      "The time required to generate 10^7 random numbers using \n",
      " my random generator function with 'list' type is  8.189634799957275 seconds.\n"
     ]
    }
   ],
   "source": [
    "import time\n",
    "N=10**7\n",
    "t0=time.time()\n",
    "a=[]\n",
    "for i in range(N):\n",
    "    a.append(rng())       # appending a random number to 'a' . When the loop ends, 'a' would be a list containing N random \n",
    "                          # numbers.\n",
    "\n",
    "t1=time.time()  \n",
    "\n",
    "print(\"The time required to generate 10^7 random numbers using \\n my random generator function with 'list' type is \",\n",
    "      str(t1-t0) , \"seconds.\")\n"
   ]
  },
  {
   "cell_type": "code",
   "execution_count": 104,
   "id": "278b45eb",
   "metadata": {},
   "outputs": [
    {
     "name": "stdout",
     "output_type": "stream",
     "text": [
      "The time required to generate 10^7 random numbers using \n",
      " my random generator function with 'array' type is  8.82866883277893 seconds.\n"
     ]
    }
   ],
   "source": [
    "t0=time.time()\n",
    "a=np.zeros(N)\n",
    "for i in range(N):\n",
    "    a[i]=rng()\n",
    "t1=time.time()\n",
    "t1-t0\n",
    "\n",
    "print(\"The time required to generate 10^7 random numbers using \\n my random generator function with 'array' type is \",\n",
    "      str(t1-t0) , \"seconds.\")"
   ]
  },
  {
   "cell_type": "code",
   "execution_count": 105,
   "id": "8d346699",
   "metadata": {},
   "outputs": [
    {
     "name": "stdout",
     "output_type": "stream",
     "text": [
      "The time required to generate 10^7 random numbers using \n",
      " the built-in generator(random.random()) function with 'list' type is  2.8912203311920166 seconds.\n"
     ]
    }
   ],
   "source": [
    "t0=time.time()\n",
    "a=[]\n",
    "for i in range(N):\n",
    "    a.append(random.random())\n",
    "t1=time.time()\n",
    "\n",
    "print(\"The time required to generate 10^7 random numbers using \\n the built-in generator(random.random()) function with 'list' type is \"\n",
    "      ,str(t1-t0) , \"seconds.\")"
   ]
  },
  {
   "cell_type": "code",
   "execution_count": 106,
   "id": "a954769f",
   "metadata": {},
   "outputs": [
    {
     "name": "stdout",
     "output_type": "stream",
     "text": [
      "The time required to generate 10^7 random numbers using \n",
      " the built-in generator(random.random()) function with 'array' type is  3.6222739219665527 seconds.\n"
     ]
    }
   ],
   "source": [
    "t0=time.time()\n",
    "b=np.zeros(N)\n",
    "for i in range(N):\n",
    "    b[i]=random.random()\n",
    "t1=time.time()\n",
    "print(\"The time required to generate 10^7 random numbers using \\n the built-in generator(random.random()) function with 'array' type is \"\n",
    "      ,str(t1-t0) , \"seconds.\")"
   ]
  },
  {
   "cell_type": "code",
   "execution_count": 107,
   "id": "a63a3a2b",
   "metadata": {},
   "outputs": [
    {
     "name": "stdout",
     "output_type": "stream",
     "text": [
      "The time required to generate 10^7 random numbers using \n",
      " the built-in generator(random.random()) function with 'loop' is  3.2510437965393066 seconds.\n"
     ]
    }
   ],
   "source": [
    "t0=time.time()\n",
    "b=np.zeros(N)\n",
    "c=[random.random() for _ in range(N)]\n",
    "t1=time.time()\n",
    "print(\"The time required to generate 10^7 random numbers using \\n the built-in generator(random.random()) function with 'loop' is \"\n",
    "      ,str(t1-t0) , \"seconds.\")"
   ]
  },
  {
   "cell_type": "code",
   "execution_count": 108,
   "id": "a3a7be59",
   "metadata": {},
   "outputs": [
    {
     "name": "stdout",
     "output_type": "stream",
     "text": [
      "The time required to generate 10^7 random numbers using \n",
      " the built-in generator(random.uniform()) function with 'loop' is  1.1909570693969727 seconds.\n"
     ]
    }
   ],
   "source": [
    "t0=time.time()\n",
    "d=np.random.uniform(N)\n",
    "t1=time.time()\n",
    "print(\"The time required to generate 10^7 random numbers using \\n the built-in generator(random.uniform()) function with 'loop' is \"\n",
    "      ,str(t1-t0) , \"seconds.\")"
   ]
  },
  {
   "cell_type": "code",
   "execution_count": 91,
   "id": "a59e58b5",
   "metadata": {},
   "outputs": [],
   "source": [
    "# This clearly shows that built-in generators are more time efficient than the LCG code."
   ]
  },
  {
   "cell_type": "code",
   "execution_count": null,
   "id": "dc0ef0ed",
   "metadata": {},
   "outputs": [],
   "source": []
  }
 ],
 "metadata": {
  "kernelspec": {
   "display_name": "Python 3",
   "language": "python",
   "name": "python3"
  },
  "language_info": {
   "codemirror_mode": {
    "name": "ipython",
    "version": 3
   },
   "file_extension": ".py",
   "mimetype": "text/x-python",
   "name": "python",
   "nbconvert_exporter": "python",
   "pygments_lexer": "ipython3",
   "version": "3.8.10"
  }
 },
 "nbformat": 4,
 "nbformat_minor": 5
}
