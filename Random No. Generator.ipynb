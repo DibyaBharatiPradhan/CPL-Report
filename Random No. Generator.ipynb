{
 "cells": [
  {
   "cell_type": "markdown",
   "id": "d88a21ae",
   "metadata": {},
   "source": [
    "### Implementation random no. generator "
   ]
  },
  {
   "cell_type": "markdown",
   "id": "0a934013",
   "metadata": {},
   "source": [
    "##### Implement the linear congruential generator first for the choice $m=7,a=5,c=9$ and different values of $x_0$. Next, implement it for the choice $m=2^{31}-1$ , $a = 7^5$ , $c=12345$ and different values of $x_0$. Generate $n=100,500,1000,10000$ random number and draw a histogram. <br> Simulate the roll of a symmetric die and draw a histogram for several values of n. Repeat the exercise with the generators $random.random$ and $numpy.random.uniform$. Compare the time efficiency of these generators by using $time.time$. "
   ]
  },
  {
   "cell_type": "code",
   "execution_count": 2,
   "id": "ed384eb8",
   "metadata": {},
   "outputs": [],
   "source": [
    "seed = 4\n",
    "\n",
    "def RNG(m=7,a=5, c=9):\n",
    "    global seed\n",
    "    seed = (a*seed+ c)% m\n",
    "    return seed/m\n"
   ]
  },
  {
   "cell_type": "code",
   "execution_count": 9,
   "id": "88099fa8",
   "metadata": {},
   "outputs": [
    {
     "data": {
      "text/plain": [
       "0.14285714285714285"
      ]
     },
     "execution_count": 9,
     "metadata": {},
     "output_type": "execute_result"
    }
   ],
   "source": [
    "RNG()"
   ]
  },
  {
   "cell_type": "code",
   "execution_count": 12,
   "id": "68f4a183",
   "metadata": {},
   "outputs": [
    {
     "data": {
      "text/plain": [
       "1"
      ]
     },
     "execution_count": 12,
     "metadata": {},
     "output_type": "execute_result"
    }
   ],
   "source": [
    "seed"
   ]
  },
  {
   "cell_type": "code",
   "execution_count": 3,
   "id": "37f82925",
   "metadata": {},
   "outputs": [
    {
     "data": {
      "text/plain": [
       "0.14285714285714285"
      ]
     },
     "execution_count": 3,
     "metadata": {},
     "output_type": "execute_result"
    }
   ],
   "source": [
    "seed = 4\n",
    "RNG(a=5,c=9,m=7)"
   ]
  },
  {
   "cell_type": "code",
   "execution_count": 53,
   "id": "f2d5d5ee",
   "metadata": {},
   "outputs": [
    {
     "name": "stdout",
     "output_type": "stream",
     "text": [
      "seed =  5 random number = 0.8571428571428571\n",
      "seed =  6 random number = 0.5714285714285714\n",
      "seed =  4 random number = 0.14285714285714285\n",
      "seed =  1 random number = 0.0\n",
      "seed =  0 random number = 0.2857142857142857\n",
      "seed =  2 random number = 0.7142857142857143\n",
      "seed =  5 random number = 0.8571428571428571\n",
      "seed =  6 random number = 0.5714285714285714\n",
      "seed =  4 random number = 0.14285714285714285\n",
      "seed =  1 random number = 0.0\n"
     ]
    }
   ],
   "source": [
    "#seed=4\n",
    "for i in range (10):\n",
    "    print (\"seed = \",seed, \"random number =\", RNG())"
   ]
  },
  {
   "cell_type": "code",
   "execution_count": 62,
   "id": "cc69f427",
   "metadata": {},
   "outputs": [
    {
     "name": "stdout",
     "output_type": "stream",
     "text": [
      "seed= 315925892 random number =  0.5526951540041226\n",
      "seed= 1186903805 random number =  0.1474590958782747\n",
      "seed= 316665997 random number =  0.3450301747513144\n",
      "seed= 740946658 random number =  0.9221527939299833\n",
      "seed= 1980308045 random number =  0.6220133298179197\n",
      "seed= 1335763454 random number =  0.17803999836465345\n",
      "seed= 382337985 random number =  0.3182582633189197\n",
      "seed= 683454416 random number =  0.966637349671981\n",
      "seed= 2075837901 random number =  0.2739416855731707\n",
      "seed= 588285290 random number =  0.13791517686933055\n"
     ]
    }
   ],
   "source": [
    "#seed=4\n",
    "for _ in range(10):\n",
    "    print (\"seed=\",seed,\"random number = \", \n",
    "           RNG(m=2**31-1, a=7**5,c=12345))"
   ]
  },
  {
   "cell_type": "code",
   "execution_count": 64,
   "id": "b6d01ca6",
   "metadata": {},
   "outputs": [],
   "source": [
    "import numpy as np\n",
    "N=100000\n",
    "X = np.zeros(N)\n",
    "\n",
    "def rng(m=2**31-1, a=7**5,c=12345):\n",
    "    global seed \n",
    "    seed = (a*seed + c) %m\n",
    "    return seed/m\n",
    "seed=4\n",
    "for i in range(N):\n",
    "    X[i]=rng()"
   ]
  },
  {
   "cell_type": "code",
   "execution_count": 66,
   "id": "d2e526c5",
   "metadata": {},
   "outputs": [
    {
     "data": {
      "image/png": "[encoded data removed]",
      "text/plain": [
       "<Figure size 432x288 with 1 Axes>"
      ]
     },
     "metadata": {
      "needs_background": "light"
     },
     "output_type": "display_data"
    }
   ],
   "source": [
    "import matplotlib.pyplot as plt\n",
    "%matplotlib inline\n",
    "plt.hist(X,bins=10,color='c',edgecolor='black')\n",
    "plt.show()"
   ]
  },
  {
   "cell_type": "markdown",
   "id": "a4e7754a",
   "metadata": {},
   "source": [
    "### Simulation of rolls of a die\n",
    "#### If U~ uni f(0,1), then int(6U+1) takes uniformly the values {1,2,3,4,5,6}.\n",
    "\n"
   ]
  },
  {
   "cell_type": "code",
   "execution_count": 74,
   "id": "d02c189c",
   "metadata": {},
   "outputs": [
    {
     "data": {
      "text/plain": [
       "<matplotlib.lines.Line2D at 0x238e9812400>"
      ]
     },
     "execution_count": 74,
     "metadata": {},
     "output_type": "execute_result"
    },
    {
     "data": {
      "image/png": "[encoded data removed]",
      "text/plain": [
       "<Figure size 432x288 with 1 Axes>"
      ]
     },
     "metadata": {
      "needs_background": "light"
     },
     "output_type": "display_data"
    }
   ],
   "source": [
    "N= 10000\n",
    "A=np.zeros(N)\n",
    "for i in range(N):\n",
    "    A[i]=int(6*rng()+1)\n",
    "    \n",
    "plt.hist(A, bins=np.arange(1,8),color='c',\n",
    "        edgecolor='black',rwidth=0.5,align='left')\n",
    "plt.axhline(y=N/6,color='red')\n"
   ]
  },
  {
   "cell_type": "code",
   "execution_count": 80,
   "id": "52900782",
   "metadata": {},
   "outputs": [
    {
     "data": {
      "text/plain": [
       "array([1., 1., 1., ..., 5., 3., 1.])"
      ]
     },
     "execution_count": 80,
     "metadata": {},
     "output_type": "execute_result"
    }
   ],
   "source": [
    "A"
   ]
  },
  {
   "cell_type": "code",
   "execution_count": 81,
   "id": "79825fca",
   "metadata": {},
   "outputs": [
    {
     "data": {
      "text/plain": [
       "array([ True,  True,  True, ..., False, False,  True])"
      ]
     },
     "execution_count": 81,
     "metadata": {},
     "output_type": "execute_result"
    }
   ],
   "source": [
    "A==1"
   ]
  },
  {
   "cell_type": "code",
   "execution_count": 82,
   "id": "27386592",
   "metadata": {},
   "outputs": [
    {
     "data": {
      "text/plain": [
       "(1666.6666666666667, 1714, 1668, 1650, 1665, 1660, 1643)"
      ]
     },
     "execution_count": 82,
     "metadata": {},
     "output_type": "execute_result"
    }
   ],
   "source": [
    "N/6, sum(A==1), sum(A==2), sum(A==3), sum(A==4), sum(A==5), sum(A==6),"
   ]
  },
  {
   "cell_type": "markdown",
   "id": "66cadd42",
   "metadata": {},
   "source": [
    "## Comparing the efficiency of several ways of generating a vector of random numbers "
   ]
  },
  {
   "cell_type": "code",
   "execution_count": 95,
   "id": "050d45a3",
   "metadata": {},
   "outputs": [
    {
     "data": {
      "text/plain": [
       "0.1456692551041303"
      ]
     },
     "execution_count": 95,
     "metadata": {},
     "output_type": "execute_result"
    }
   ],
   "source": [
    "import random\n",
    "random.seed(100)\n",
    "random.random()"
   ]
  },
  {
   "cell_type": "code",
   "execution_count": 105,
   "id": "34992c7a",
   "metadata": {},
   "outputs": [
    {
     "name": "stdout",
     "output_type": "stream",
     "text": [
      "7.864605665206909\n"
     ]
    }
   ],
   "source": [
    "import time\n",
    "N=10**7\n",
    "t0=time.time()\n",
    "a=[]\n",
    "for i in range(N):\n",
    "    a.append(rng())\n",
    "    \n",
    "'''a comment is to be written here \n",
    "'''\n",
    "\n",
    "t1=time.time()\n",
    "print(t1-t0)\n",
    "\n",
    "\n"
   ]
  },
  {
   "cell_type": "code",
   "execution_count": 109,
   "id": "8ba90fce",
   "metadata": {},
   "outputs": [
    {
     "data": {
      "text/plain": [
       "list"
      ]
     },
     "execution_count": 109,
     "metadata": {},
     "output_type": "execute_result"
    }
   ],
   "source": [
    "type(a)"
   ]
  },
  {
   "cell_type": "code",
   "execution_count": 110,
   "id": "278b45eb",
   "metadata": {},
   "outputs": [
    {
     "data": {
      "text/plain": [
       "8.815668106079102"
      ]
     },
     "execution_count": 110,
     "metadata": {},
     "output_type": "execute_result"
    }
   ],
   "source": [
    "t0=time.time()\n",
    "a=np.zeros(N)\n",
    "for i in range(N):\n",
    "    a[i]=rng()\n",
    "t1=time.time()\n",
    "t1-t0"
   ]
  },
  {
   "cell_type": "code",
   "execution_count": 111,
   "id": "59e0c14d",
   "metadata": {},
   "outputs": [
    {
     "data": {
      "text/plain": [
       "numpy.ndarray"
      ]
     },
     "execution_count": 111,
     "metadata": {},
     "output_type": "execute_result"
    }
   ],
   "source": [
    "type(a)"
   ]
  },
  {
   "cell_type": "code",
   "execution_count": 112,
   "id": "8d346699",
   "metadata": {},
   "outputs": [
    {
     "name": "stdout",
     "output_type": "stream",
     "text": [
      "2.7801990509033203\n"
     ]
    }
   ],
   "source": [
    "t0=time.time()\n",
    "a=[]\n",
    "for i in range(N):\n",
    "    a.append(random.random())\n",
    "t1=time.time()\n",
    "print(t1-t0)"
   ]
  },
  {
   "cell_type": "code",
   "execution_count": 113,
   "id": "c65bed2e",
   "metadata": {},
   "outputs": [
    {
     "data": {
      "text/plain": [
       "list"
      ]
     },
     "execution_count": 113,
     "metadata": {},
     "output_type": "execute_result"
    }
   ],
   "source": [
    "type(a)"
   ]
  },
  {
   "cell_type": "code",
   "execution_count": 114,
   "id": "a954769f",
   "metadata": {},
   "outputs": [
    {
     "name": "stdout",
     "output_type": "stream",
     "text": [
      "3.405254364013672\n"
     ]
    }
   ],
   "source": [
    "t0=time.time()\n",
    "b=np.zeros(N)\n",
    "for i in range(N):\n",
    "    b[i]=random.random()\n",
    "t1=time.time()\n",
    "print(t1-t0)"
   ]
  },
  {
   "cell_type": "code",
   "execution_count": 116,
   "id": "a63a3a2b",
   "metadata": {},
   "outputs": [
    {
     "name": "stdout",
     "output_type": "stream",
     "text": [
      "2.2252159118652344\n"
     ]
    }
   ],
   "source": [
    "t0=time.time()\n",
    "b=np.zeros(N)\n",
    "c=[random.random() for _ in range(N)]\n",
    "t1=time.time()\n",
    "print(t1-t0)"
   ]
  },
  {
   "cell_type": "code",
   "execution_count": 123,
   "id": "a3a7be59",
   "metadata": {},
   "outputs": [
    {
     "name": "stdout",
     "output_type": "stream",
     "text": [
      "0.0009987354278564453\n"
     ]
    }
   ],
   "source": [
    "t0=time.time()\n",
    "d=np.random.uniform(N)\n",
    "t1=time.time()\n",
    "print(t1-t0)"
   ]
  },
  {
   "cell_type": "code",
   "execution_count": null,
   "id": "a59e58b5",
   "metadata": {},
   "outputs": [],
   "source": []
  }
 ],
 "metadata": {
  "kernelspec": {
   "display_name": "Python 3",
   "language": "python",
   "name": "python3"
  },
  "language_info": {
   "codemirror_mode": {
    "name": "ipython",
    "version": 3
   },
   "file_extension": ".py",
   "mimetype": "text/x-python",
   "name": "python",
   "nbconvert_exporter": "python",
   "pygments_lexer": "ipython3",
   "version": "3.8.10"
  }
 },
 "nbformat": 4,
 "nbformat_minor": 5
}
